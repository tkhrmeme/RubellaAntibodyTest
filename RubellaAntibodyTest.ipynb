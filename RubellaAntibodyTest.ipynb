{
 "cells": [
  {
   "cell_type": "markdown",
   "metadata": {},
   "source": [
    "## 「風しん抗体検査・風しん第５期定期接種受託医療機関」の可視化"
   ]
  },
  {
   "cell_type": "markdown",
   "metadata": {},
   "source": [
    "「[厚生労働省　風しんの追加的対策について](https://www.mhlw.go.jp/stf/seisakunitsuite/bunya/kenkou_iryou/kenkou/kekkaku-kansenshou/rubella/index_00001.html)」で公開されている「風しん抗体検査・風しん第５期定期接種受託医療機関」を地図上に可視化する．\n",
    "\n",
    "\n",
    "PDFファイルから表データを取り出し，所在地の住所をアドレス・マッチングにより経緯度座標を割り出し，地図上にその位置を表示する．"
   ]
  },
  {
   "cell_type": "markdown",
   "metadata": {},
   "source": [
    "## 利用したサービスやライブラリ\n",
    "\n",
    "### 東京大学空間情報科学研究センター「CSVアドレスマッチングサービス」\n",
    "\n",
    "http://newspat.csis.u-tokyo.ac.jp/geocode/modules/addmatch/index.php?content_id=1\n",
    "\n",
    "\n",
    "### tabula\n",
    "\n",
    "[tabula](https://tabula.technology/)は，PDFから表データを抽出するJavaアプリケーションです（Javaの実行環境が必要です）\n",
    "\n",
    "### tabula-py\n",
    "\n",
    "[tabula-py](https://pypi.org/project/tabula-py/) は，Pythonから tabula を利用して PDFの表データを pandas の DataFrame として取り出すことが可能なライブラリです\n",
    "\n",
    "### kepler-gl\n",
    "\n",
    "[kepler.gl](https://kepler.gl) は uber のオープンソース・ソフトウェアで，ブラウザ上で地理空間情報を簡単に可視化することができます．WebGLを使っており大量のデータを高速に描画することが可能です．\n",
    "\n",
    "juypter notebook内ではウィジェットを使って表示することが可能です．"
   ]
  },
  {
   "cell_type": "code",
   "execution_count": null,
   "metadata": {},
   "outputs": [],
   "source": [
    "import tabula\n",
    "import pandas as pd\n",
    "import requests\n",
    "from io import StringIO"
   ]
  },
  {
   "cell_type": "code",
   "execution_count": null,
   "metadata": {},
   "outputs": [],
   "source": [
    "# PDFファイルの URLを指定し，tabulaを使って表データを読み込み DataFrame にする\n",
    "pdf_url = \"https://www.mhlw.go.jp/content/000516970.pdf\"\n",
    "\n",
    "df = tabula.read_pdf(pdf_url, \n",
    "                     pages='all', # or 読み込むページ番号をリストで指定 ex. [1,2,3]\n",
    "                     lattice=True, \n",
    "                     pandas_options={'header':[0,1]}\n",
    "                    )\n",
    "\n",
    "# カラム名を変更する\n",
    "column_names = ['No', '実施機関名', '郵便番号', '所在地', '電話番号', '受託範囲：風しんの抗体検査', '受託範囲：風しんの第5期の定期接種']\n",
    "df.columns = column_names"
   ]
  },
  {
   "cell_type": "code",
   "execution_count": null,
   "metadata": {},
   "outputs": [],
   "source": [
    "# 不要なカラムを削除\n",
    "df.drop('No', axis='columns', inplace=True)"
   ]
  },
  {
   "cell_type": "code",
   "execution_count": null,
   "metadata": {},
   "outputs": [],
   "source": [
    "# 文字列のクレンジング\n",
    "\n",
    "# 混在している◯と〇や，×を 1/0 に置換する\n",
    "for col in ['受託範囲：風しんの抗体検査', '受託範囲：風しんの第5期の定期接種']:\n",
    "    df[col] = df[col].fillna(0)\n",
    "    df[col] = df[col].replace('×', 0)\n",
    "    df[col] = df[col].replace('〇', 1).replace('○', 1)\n",
    "    \n",
    "# 値の中の改行除去\n",
    "df['実施機関名'] = df['実施機関名'].str.replace('\\r','')\n",
    "df['所在地'] = df['所在地'].str.replace('\\r','')\n",
    "\n",
    "# 所在地の文字列からマンション名などを分離して住所のみ取り出す\n",
    "df['所在地'] = df['所在地'].str.split(' ', expand=True)[0]"
   ]
  },
  {
   "cell_type": "markdown",
   "metadata": {},
   "source": [
    "## アドレスマッチング・サービスで経緯度を割り出す"
   ]
  },
  {
   "cell_type": "code",
   "execution_count": null,
   "metadata": {
    "scrolled": false
   },
   "outputs": [],
   "source": [
    "# DataFrameから所在地を文字列バッファにCSVデータにして出力する（エンコードは Shift_JISにしておく）\n",
    "buffer = StringIO('csv-data')\n",
    "df[['所在地']].to_csv(buffer, encoding='shift_jis', index=False, header=None)"
   ]
  },
  {
   "cell_type": "code",
   "execution_count": null,
   "metadata": {},
   "outputs": [],
   "source": [
    "# アドレスマッチング・サービスの設定\n",
    "url_adress_matching = 'http://newspat.csis.u-tokyo.ac.jp/geocode-cgi/geocode.cgi'\n",
    "\n",
    "params = {\n",
    "    'action':'input',\n",
    "    'spat_host':'newspat.csis.u-tokyo.ac.jp',\n",
    "    'spat_port':8801, # 北海道，街区レベル（経緯度・世界測地系）\n",
    "    'ncolumn': [1],   # カラム番号（先頭＝1）\n",
    "    'input_kanji_code':'auto',\n",
    "    'output_kanji_code':'auto',\n",
    "    'exact_level':0\n",
    "}\n",
    "\n",
    "buffer.seek(0)\n",
    "\n",
    "files = {'file': (\"address.csv\", buffer, 'text/csv')}\n",
    "\n",
    "# アドレスマッチング・サービスにPOST\n",
    "res = requests.post(url_adress_matching, files=files, data=params)\n",
    "res.headers"
   ]
  },
  {
   "cell_type": "code",
   "execution_count": null,
   "metadata": {},
   "outputs": [],
   "source": [
    "# レスポンスの確認\n",
    "res.ok"
   ]
  },
  {
   "cell_type": "code",
   "execution_count": null,
   "metadata": {},
   "outputs": [],
   "source": [
    "# アドレスマッチングの結果のCSVデータを DataFrame にして，元の DataFrameに joinする\n",
    "df_geodata = pd.read_csv( StringIO(res.text) )\n",
    "df_result = df.join(df_geodata[['LocName', 'fX', 'fY', 'iConf', 'iLvl']])"
   ]
  },
  {
   "cell_type": "code",
   "execution_count": null,
   "metadata": {},
   "outputs": [],
   "source": [
    "# 経緯度のカラムをリネームする\n",
    "df_result.rename({'fX':'Longitude', 'fY':'Latitude'}, axis='columns', inplace=True)"
   ]
  },
  {
   "cell_type": "code",
   "execution_count": null,
   "metadata": {},
   "outputs": [],
   "source": [
    "# CSVファイルに出力する\n",
    "df_result.to_csv(\"rubella_antibody_test.csv\", index=False)"
   ]
  },
  {
   "cell_type": "markdown",
   "metadata": {},
   "source": [
    "## kepler.glで可視化する"
   ]
  },
  {
   "cell_type": "code",
   "execution_count": null,
   "metadata": {
    "code_folding": [
     75
    ]
   },
   "outputs": [],
   "source": [
    "# keplerの表示設定\n",
    "config = {\n",
    "  \"version\": \"v1\",\n",
    "  \"config\": {\n",
    "    \"visState\": {\n",
    "      \"filters\": [],\n",
    "      \"layers\": [\n",
    "        {\n",
    "          \"id\": \"rubella\",\n",
    "          \"type\": \"point\",\n",
    "          \"config\": {\n",
    "            \"dataId\": \"invyer8il\",\n",
    "            \"label\": \"Point\",\n",
    "            \"color\": [\n",
    "              125,\n",
    "              194,\n",
    "              64\n",
    "            ],\n",
    "            \"columns\": {\n",
    "              \"lat\": \"Latitude\",\n",
    "              \"lng\": \"Longitude\",\n",
    "              \"altitude\": None\n",
    "            },\n",
    "            \"isVisible\": True,\n",
    "            \"visConfig\": {\n",
    "              \"radius\": 10,\n",
    "              \"fixedRadius\": False,\n",
    "              \"opacity\": 0.8,\n",
    "              \"outline\": False,\n",
    "              \"thickness\": 2,\n",
    "              \"strokeColor\": None,\n",
    "              \"colorRange\": {\n",
    "                \"name\": \"Global Warming\",\n",
    "                \"type\": \"sequential\",\n",
    "                \"category\": \"Uber\",\n",
    "                \"colors\": [\n",
    "                  \"#5A1846\",\n",
    "                  \"#900C3F\",\n",
    "                  \"#C70039\",\n",
    "                  \"#E3611C\",\n",
    "                  \"#F1920E\",\n",
    "                  \"#FFC300\"\n",
    "                ]\n",
    "              },\n",
    "              \"strokeColorRange\": {\n",
    "                \"name\": \"Global Warming\",\n",
    "                \"type\": \"sequential\",\n",
    "                \"category\": \"Uber\",\n",
    "                \"colors\": [\n",
    "                  \"#5A1846\",\n",
    "                  \"#900C3F\",\n",
    "                  \"#C70039\",\n",
    "                  \"#E3611C\",\n",
    "                  \"#F1920E\",\n",
    "                  \"#FFC300\"\n",
    "                ]\n",
    "              },\n",
    "              \"radiusRange\": [\n",
    "                0,\n",
    "                50\n",
    "              ],\n",
    "              \"filled\": True\n",
    "            },\n",
    "            \"textLabel\": []\n",
    "          },\n",
    "          \"visualChannels\": {\n",
    "            \"colorField\": None,\n",
    "            \"colorScale\": \"quantile\",\n",
    "            \"strokeColorField\": None,\n",
    "            \"strokeColorScale\": \"quantile\",\n",
    "            \"sizeField\": None,\n",
    "            \"sizeScale\": \"linear\"\n",
    "          }\n",
    "        }\n",
    "      ],\n",
    "      \"interactionConfig\": {\n",
    "        \"tooltip\": {\n",
    "          \"fieldsToShow\": {\n",
    "            \"invyer8il\": [\n",
    "              \"実施機関名\",\n",
    "              \"電話番号\"\n",
    "            ]\n",
    "          },\n",
    "          \"enabled\": True\n",
    "        },\n",
    "        \"brush\": {\n",
    "          \"size\": 0.5,\n",
    "          \"enabled\": False\n",
    "        }\n",
    "      },\n",
    "      \"layerBlending\": \"additive\",\n",
    "      \"splitMaps\": []\n",
    "    },\n",
    "    \"mapState\": {\n",
    "      \"bearing\": 0,\n",
    "      \"dragRotate\": False,\n",
    "      \"latitude\": 43.59401984322031,\n",
    "      \"longitude\": 141.14463375422739,\n",
    "      \"pitch\": 0,\n",
    "      \"zoom\": 6.201792993981295,\n",
    "      \"isSplit\": False\n",
    "    },\n",
    "    \"mapStyle\": {\n",
    "      \"styleType\": \"dark\",\n",
    "      \"topLayerGroups\": {},\n",
    "      \"visibleLayerGroups\": {\n",
    "        \"label\": True,\n",
    "        \"road\": True,\n",
    "        \"border\": False,\n",
    "        \"building\": True,\n",
    "        \"water\": True,\n",
    "        \"land\": True,\n",
    "        \"3d building\": False\n",
    "      },\n",
    "      \"threeDBuildingColor\": [\n",
    "        9.665468314072013,\n",
    "        17.18305478057247,\n",
    "        31.1442867897876\n",
    "      ],\n",
    "      \"mapStyles\": {}\n",
    "    }\n",
    "  }\n",
    "}"
   ]
  },
  {
   "cell_type": "code",
   "execution_count": null,
   "metadata": {},
   "outputs": [],
   "source": [
    "# ウィジェットを使って notebook 内に地図を表示する\n",
    "from keplergl import KeplerGl \n",
    "kepler = KeplerGl(height=400, config=config)\n",
    "kepler.add_data(data=df_result, name=\"rubella\")\n",
    "\n",
    "kepler"
   ]
  },
  {
   "cell_type": "code",
   "execution_count": null,
   "metadata": {},
   "outputs": [],
   "source": [
    "# HTMLファイルに出力する\n",
    "kepler.save_to_html(file_name=\"docs/rubella_antibody_test.html\")"
   ]
  },
  {
   "cell_type": "markdown",
   "metadata": {},
   "source": [
    "可視化の結果を[ブラウザで表示](./docs/rubella_antibody_test.html)する"
   ]
  }
 ],
 "metadata": {
  "kernelspec": {
   "display_name": "Python 3",
   "language": "python",
   "name": "python3"
  },
  "language_info": {
   "codemirror_mode": {
    "name": "ipython",
    "version": 3
   },
   "file_extension": ".py",
   "mimetype": "text/x-python",
   "name": "python",
   "nbconvert_exporter": "python",
   "pygments_lexer": "ipython3",
   "version": "3.6.1"
  }
 },
 "nbformat": 4,
 "nbformat_minor": 2
}
